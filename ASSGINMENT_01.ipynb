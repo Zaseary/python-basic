{
  "nbformat": 4,
  "nbformat_minor": 0,
  "metadata": {
    "colab": {
      "provenance": []
    },
    "kernelspec": {
      "name": "python3",
      "display_name": "Python 3"
    },
    "language_info": {
      "name": "python"
    }
  },
  "cells": [
    {
      "cell_type": "markdown",
      "source": [
        "1. What is Python, and why is it popular?\n",
        "Ans-Python is a programming launguage that easy to understand and write\n",
        "python its a popular because choice among developer and programmer.\n",
        "\n",
        "\n",
        "\n",
        "2. What is an interpreter in Python ?\n",
        "Ans- interpreter in Python is a program that reads and executes Python code line by line. It translates the code into machine code that the computer's processor can understand and execute.\n",
        "\n",
        "\n",
        "3. What are pre-defined keywords in Python?\n",
        "Ans-keywords are reserved in python it has special meaning  and cannot be used as a varibale\n",
        "there are same pre-defined keyword in python\n",
        ".if,else,while,for,def,class,import etc....\n",
        "\n",
        "\n",
        "4. Can keywords be used as variable names?\n",
        "Ans- ***NO***, because keyword its and resverved in python it has special meaning and cannot be used as a variable name\n",
        "\n",
        "\n",
        "5.  What is mutability in Python?\n",
        "Ans- in python mutabiltiy it has a  object changable/modifier is known as\n",
        "mutability.\n",
        "\n",
        "\n",
        "6. Why are lists mutable, but tuples are immutable?\n",
        "Ans- lists mutable  it can be modified after creation and tuple are immutable beacuse it cannot be modified after creation\n",
        "  \n",
        "\n",
        "\n",
        "7. what is the difference between “==” and “is” operators in Python?\n",
        "Ans-  The == operator checks for value equality, while the is operator checks for object identity (i.e., whether both variables point to the same object in memory). Use == for comparing values and is for comparing object identities  \n",
        "\n",
        "\n",
        "\n",
        "8. What are logical operators in Python?\n",
        "Ans- Python's logical operators are and, or, and not, used to combine conditional statements and return boolean values based on the conditions' truthiness. They enable complex decision-making in code.\n",
        "\n",
        "\n",
        "9. what is type casting in Python?\n",
        "Ans-\n",
        "Type casting, also referred to as type conversion, is the process of changing one data type to another in Python.\n",
        "\n",
        "\n",
        "10.  What is the difference between implicit and explicit type casting?\n",
        "Ans- Implicit Type Casting: Automatically performed by the programming language without explicit instructions, where one data type is converted to another.\n",
        "- Explicit Type Casting: Manually performed by the programmer using casting operators or functions to convert one data type to another.\n",
        "\n",
        "\n",
        "11. What is the purpose of conditional statements in Python?\n",
        "Ans-conditionals in Python are used to execute code based on the evaluation of one or more conditions.\n",
        "\n",
        "12. How does the elif statement work?\n",
        "Ans- The elif statement is used to check another condition if the initial condition is false.\n",
        "\n",
        "13. What is the difference between for and while loops?\n",
        "Ans- -For Loop: Used to iterate over a sequence (e.g., list, tuple, string) or a range of values, executing a block of code for each item.\n",
        "- While Loop: Used to execute a block of code repeatedly while a certain condition is true.\n",
        "\n",
        "14. Describe a scenario where a while loop is more suitable than a for loop?\n",
        "Ans-\n",
        "You need to repeatedly ask for user input until a valid response is received.\n",
        "The number of iterations is unknown beforehand.\n",
        "\n",
        "\n",
        "\n",
        "\n",
        "\n",
        "\n",
        "\n",
        "\n",
        "\n",
        "\n",
        "\n"
      ],
      "metadata": {
        "id": "UAxRBM-ehzTP"
      }
    },
    {
      "cell_type": "code",
      "source": [
        "# 1.Write a Python program to print \"Hello, World!\n",
        "print(\"hello world!\")"
      ],
      "metadata": {
        "colab": {
          "base_uri": "https://localhost:8080/"
        },
        "id": "Y6OuhOTrpuXp",
        "outputId": "65d0a5d4-5bd6-4997-b18f-8b4946278825"
      },
      "execution_count": null,
      "outputs": [
        {
          "output_type": "stream",
          "name": "stdout",
          "text": [
            "hello world!\n"
          ]
        }
      ]
    },
    {
      "cell_type": "code",
      "source": [
        "# 2.Write a Python program that displays your name and age\n",
        "name=\"arya\"\n",
        "age=20\n",
        "print(f\"my name is {name} and my age is {age}\")"
      ],
      "metadata": {
        "colab": {
          "base_uri": "https://localhost:8080/"
        },
        "id": "4ambzJiWqEut",
        "outputId": "0a48c3cb-88c7-4332-d608-e7f631c19428"
      },
      "execution_count": null,
      "outputs": [
        {
          "output_type": "stream",
          "name": "stdout",
          "text": [
            "my name is arya and my age is 20\n"
          ]
        }
      ]
    },
    {
      "cell_type": "code",
      "source": [
        " # 3.Write code to print all the pre-defined keywords in Python using the keyword library\n",
        " help(\"keywords\")"
      ],
      "metadata": {
        "colab": {
          "base_uri": "https://localhost:8080/"
        },
        "id": "X_B5Ze7Cpi5R",
        "outputId": "4928cebf-ae91-4090-907c-ee83e3e4ec01"
      },
      "execution_count": null,
      "outputs": [
        {
          "output_type": "stream",
          "name": "stdout",
          "text": [
            "\n",
            "Here is a list of the Python keywords.  Enter any keyword to get more help.\n",
            "\n",
            "False               class               from                or\n",
            "None                continue            global              pass\n",
            "True                def                 if                  raise\n",
            "and                 del                 import              return\n",
            "as                  elif                in                  try\n",
            "assert              else                is                  while\n",
            "async               except              lambda              with\n",
            "await               finally             nonlocal            yield\n",
            "break               for                 not                 \n",
            "\n"
          ]
        }
      ]
    },
    {
      "cell_type": "code",
      "source": [
        "# 4.Write a program that checks if a given word is a Python keyword.\n",
        "import keyword\n",
        "print(keyword.kwlist)"
      ],
      "metadata": {
        "colab": {
          "base_uri": "https://localhost:8080/"
        },
        "id": "0g0rLxoMq-IA",
        "outputId": "c36f38fd-0733-4dba-9f7a-830aa3d567a7"
      },
      "execution_count": null,
      "outputs": [
        {
          "output_type": "stream",
          "name": "stdout",
          "text": [
            "['False', 'None', 'True', 'and', 'as', 'assert', 'async', 'await', 'break', 'class', 'continue', 'def', 'del', 'elif', 'else', 'except', 'finally', 'for', 'from', 'global', 'if', 'import', 'in', 'is', 'lambda', 'nonlocal', 'not', 'or', 'pass', 'raise', 'return', 'try', 'while', 'with', 'yield']\n"
          ]
        }
      ]
    },
    {
      "cell_type": "code",
      "source": [
        "#5. Create a list and tuple in Python, and demonstrate how attempting to change an element works differently\n",
        "my_list = [1, 2, 3]\n",
        "my_tuple = (1, 2, 3)\n",
        "my_list[0]=10\n",
        "print(my_list)\n",
        "try:\n",
        "    my_tuple[0] = 10\n",
        "except TypeError as e:\n",
        "    print(e)\n",
        "\n"
      ],
      "metadata": {
        "colab": {
          "base_uri": "https://localhost:8080/"
        },
        "id": "meDIcbjUrl-t",
        "outputId": "3bd7a346-3573-463e-8bd9-74f7e01fb346"
      },
      "execution_count": null,
      "outputs": [
        {
          "output_type": "stream",
          "name": "stdout",
          "text": [
            "[10, 2, 3]\n",
            "'tuple' object does not support item assignment\n"
          ]
        }
      ]
    },
    {
      "cell_type": "code",
      "source": [
        "#6.Write a function to demonstrate the behavior of mutable and immutable arguments.\n",
        "def modify_objects(my_list, my_tuple, my_int):\n",
        "    my_list.append(4)  # Modifies the original list\n",
        "    try:\n",
        "        my_tuple[0] = 10  # Raises an error\n",
        "    except TypeError as e:\n",
        "        print(e)\n",
        "    my_int += 1  # Does not modify the original integer\n",
        "\n",
        "my_list = [1, 2, 3]\n",
        "my_tuple = (1, 2, 3)\n",
        "my_int = 5\n",
        "\n",
        "print(\"Before:\", my_list, my_tuple, my_int)\n",
        "modify_objects(my_list, my_tuple, my_int)\n",
        "print(\"After:\", my_list, my_tuple, my_int)\n"
      ],
      "metadata": {
        "colab": {
          "base_uri": "https://localhost:8080/"
        },
        "id": "atWtdCMRUBnK",
        "outputId": "211f91a3-ed2d-4386-c8c4-5921740eca18"
      },
      "execution_count": 1,
      "outputs": [
        {
          "output_type": "stream",
          "name": "stdout",
          "text": [
            "Before: [1, 2, 3] (1, 2, 3) 5\n",
            "'tuple' object does not support item assignment\n",
            "After: [1, 2, 3, 4] (1, 2, 3) 5\n"
          ]
        }
      ]
    },
    {
      "cell_type": "code",
      "source": [
        "#7.Write a program that performs basic arithmetic operations on two user-input numbers\n",
        "num=12\n",
        "num1=21\n",
        "print(f\"tha addtion of 2 num is {num+num1}\")\n",
        "print(f\"the subtraction of 2 num is {num-num1}\")\n",
        "print(f\"the multiplication  of 2 num is {num*num1}\")\n",
        "print(f\"the division of 2 num is {num/num1}\")"
      ],
      "metadata": {
        "colab": {
          "base_uri": "https://localhost:8080/"
        },
        "id": "whz-hiNuUkpP",
        "outputId": "c5076e00-030e-40f9-c77e-6bd753f2b3b3"
      },
      "execution_count": 2,
      "outputs": [
        {
          "output_type": "stream",
          "name": "stdout",
          "text": [
            "tha addtion of 2 num is 33\n",
            "the subtraction of 2 num is -9\n",
            "the multiplication  of 2 num is 252\n",
            "the division of 2 num is 0.5714285714285714\n"
          ]
        }
      ]
    },
    {
      "cell_type": "code",
      "source": [
        "#8.Write a program to demonstrate the use of logical operators.\n",
        "x = 5\n",
        "y = 10\n",
        "\n",
        "print(x > 0 and y > 0)\n",
        "print(x > 0 or y < 0)\n",
        "print(not x > 0)\n",
        "\n"
      ],
      "metadata": {
        "colab": {
          "base_uri": "https://localhost:8080/"
        },
        "id": "8H4RMRxSVjPV",
        "outputId": "c7bc400d-b809-4b44-8640-e5fe8bab88e6"
      },
      "execution_count": 3,
      "outputs": [
        {
          "output_type": "stream",
          "name": "stdout",
          "text": [
            "True\n",
            "True\n",
            "False\n"
          ]
        }
      ]
    },
    {
      "cell_type": "code",
      "source": [
        "#9.Write a Python program to convert user input from string to integer, float, and boolean types.\n",
        "user_input = input(\"Enter a value: \")\n",
        "\n",
        "try:\n",
        "    int_value = int(user_input)\n",
        "    print(\"Integer value:\", int_value)\n",
        "except ValueError:\n",
        "    print(\"Cannot convert to integer.\")\n",
        "\n",
        "try:\n",
        "    float_value = float(user_input)\n",
        "    print(\"Float value:\", float_value)\n",
        "except ValueError:\n",
        "    print(\"Cannot convert to float.\")\n",
        "\n",
        "if user_input.lower() == \"true\":\n",
        "    bool_value = True\n",
        "elif user_input.lower() == \"false\":\n",
        "    bool_value = False\n",
        "else:\n",
        "    bool_value = user_input != \"\"\n",
        "print(\"Boolean value:\", bool_value)\n"
      ],
      "metadata": {
        "colab": {
          "base_uri": "https://localhost:8080/"
        },
        "id": "7NfrlOFMV6O1",
        "outputId": "c793772f-b542-4578-80f8-911806f8a033"
      },
      "execution_count": 6,
      "outputs": [
        {
          "output_type": "stream",
          "name": "stdout",
          "text": [
            "Enter a value: 65\n",
            "Integer value: 65\n",
            "Float value: 65.0\n",
            "Boolean value: True\n"
          ]
        }
      ]
    },
    {
      "cell_type": "code",
      "source": [
        " #10.Write code to demonstrate type casting with list elements.\n",
        "\n",
        "numbers = [\"1\", \"2\", \"3\", \"4\", \"5\"]\n",
        "int_numbers = [int(num) for num in numbers]\n",
        "print(\"Integer list:\", int_numbers)\n",
        "float_numbers = [1, 2, 3, 4, 5]\n",
        "float_numbers = [float(num) for num in float_numbers]\n",
        "print(\"Float list:\", float_numbers)\n",
        "bool_values = [\"True\", \"False\", \"True\", \"False\"]\n",
        "bool_values = [val.lower() == \"true\" for val in bool_values]\n",
        "print(\"Boolean list:\", bool_values)\n"
      ],
      "metadata": {
        "colab": {
          "base_uri": "https://localhost:8080/"
        },
        "id": "CryjIDyhWXGD",
        "outputId": "39a80ad3-3c86-4cc8-98eb-62909b15e506"
      },
      "execution_count": 7,
      "outputs": [
        {
          "output_type": "stream",
          "name": "stdout",
          "text": [
            "Integer list: [1, 2, 3, 4, 5]\n",
            "Float list: [1.0, 2.0, 3.0, 4.0, 5.0]\n",
            "Boolean list: [True, False, True, False]\n"
          ]
        }
      ]
    },
    {
      "cell_type": "code",
      "source": [
        "#11. Write a program that checks if a number is positive, negative, or zero\n",
        "num = float(input(\"Enter a number: \"))\n",
        "\n",
        "if num > 0:\n",
        "    print(num, \"is a positive number.\")\n",
        "elif num < 0:\n",
        "    print(num, \"is a negative number.\")\n",
        "else:\n",
        "    print(num, \"is zero.\")\n",
        "\n"
      ],
      "metadata": {
        "colab": {
          "base_uri": "https://localhost:8080/"
        },
        "id": "xierLkksWys6",
        "outputId": "f2000042-e17f-47aa-e546-118bef0b26b7"
      },
      "execution_count": 8,
      "outputs": [
        {
          "output_type": "stream",
          "name": "stdout",
          "text": [
            "Enter a number:  23\n",
            "23.0 is a positive number.\n"
          ]
        }
      ]
    },
    {
      "cell_type": "code",
      "source": [
        "#12.. Write a for loop to print numbers from 1 to 10\n",
        "for num in range(1,12):\n",
        "  if num == 11:\n",
        "    continue\n",
        "  else:\n",
        "      print(num)"
      ],
      "metadata": {
        "colab": {
          "base_uri": "https://localhost:8080/"
        },
        "id": "-wdXnBc5XClW",
        "outputId": "f2d6d2dc-27f4-48bb-a9e2-69bc30fcf8e1"
      },
      "execution_count": 10,
      "outputs": [
        {
          "output_type": "stream",
          "name": "stdout",
          "text": [
            "1\n",
            "2\n",
            "3\n",
            "4\n",
            "5\n",
            "6\n",
            "7\n",
            "8\n",
            "9\n",
            "10\n"
          ]
        }
      ]
    },
    {
      "cell_type": "code",
      "source": [
        " #13.Write a Python program to find the sum of all even numbers between 1 and 50\n",
        " sum_even = 0\n",
        "for i in range(1, 51):\n",
        "    if i % 2 == 0:\n",
        "        sum_even += i\n",
        "print(\"Sum of even numbers:\", sum_even)\n",
        "\n"
      ],
      "metadata": {
        "colab": {
          "base_uri": "https://localhost:8080/"
        },
        "id": "Kb3eMmWcXsAh",
        "outputId": "8e30fcfc-6ccb-4d32-e55b-1d7cc0f821c2"
      },
      "execution_count": 13,
      "outputs": [
        {
          "output_type": "stream",
          "name": "stdout",
          "text": [
            "Sum of even numbers: 650\n"
          ]
        }
      ]
    },
    {
      "cell_type": "code",
      "source": [
        "#14.Write a program to rev in pythonerse a string using a while loop.\n",
        "s = input(\"Enter a string: \")\n",
        "rev_s = \"\"\n",
        "i = len(s) - 1\n",
        "while i >= 0:\n",
        "    rev_s += s[i]\n",
        "    i -= 1\n",
        "print(\"Reversed string:\", rev_s)\n",
        "\n"
      ],
      "metadata": {
        "colab": {
          "base_uri": "https://localhost:8080/"
        },
        "id": "KOSIKr0jYopC",
        "outputId": "73be86d1-239c-41d0-e917-d8527c10c535"
      },
      "execution_count": 14,
      "outputs": [
        {
          "output_type": "stream",
          "name": "stdout",
          "text": [
            "Enter a string: arya\n",
            "Reversed string: ayra\n"
          ]
        }
      ]
    },
    {
      "cell_type": "code",
      "source": [
        "#15.Write a Python program to calculate the factorial of a number provided by the user using a while loop\n",
        "num = int(input(\"Enter a number: \"))\n",
        "fact = 1\n",
        "i = 1\n",
        "while i <= num:\n",
        "    fact *= i\n",
        "    i += 1\n",
        "print(\"Factorial of\", num, \"is:\", fact)\n"
      ],
      "metadata": {
        "colab": {
          "base_uri": "https://localhost:8080/"
        },
        "id": "yBS1E37yZHJF",
        "outputId": "39b27148-3a42-4132-8246-e316985a4ad4"
      },
      "execution_count": 15,
      "outputs": [
        {
          "output_type": "stream",
          "name": "stdout",
          "text": [
            "Enter a number:  21\n",
            "Factorial of 21 is: 51090942171709440000\n"
          ]
        }
      ]
    }
  ]
}